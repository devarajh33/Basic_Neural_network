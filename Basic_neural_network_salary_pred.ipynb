{
 "cells": [
  {
   "cell_type": "code",
   "execution_count": 4,
   "id": "04a6082a-e3fd-4cdb-9cbe-dc8824349976",
   "metadata": {},
   "outputs": [
    {
     "name": "stdout",
     "output_type": "stream",
     "text": [
      "Collecting pytorch\n",
      "  Downloading pytorch-1.0.2.tar.gz (689 bytes)\n",
      "  Preparing metadata (setup.py): started\n",
      "  Preparing metadata (setup.py): finished with status 'done'\n",
      "Collecting torchvision\n",
      "  Downloading torchvision-0.19.1-cp311-cp311-win_amd64.whl.metadata (6.1 kB)\n",
      "Collecting torchaudio\n",
      "  Downloading torchaudio-2.4.1-cp311-cp311-win_amd64.whl.metadata (6.5 kB)\n",
      "Requirement already satisfied: numpy in c:\\users\\devaraju_h\\anaconda3\\lib\\site-packages (from torchvision) (1.26.4)\n",
      "Requirement already satisfied: torch==2.4.1 in c:\\users\\devaraju_h\\anaconda3\\lib\\site-packages (from torchvision) (2.4.1+cu118)\n",
      "Requirement already satisfied: pillow!=8.3.*,>=5.3.0 in c:\\users\\devaraju_h\\anaconda3\\lib\\site-packages (from torchvision) (10.2.0)\n",
      "Requirement already satisfied: filelock in c:\\users\\devaraju_h\\anaconda3\\lib\\site-packages (from torch==2.4.1->torchvision) (3.13.1)\n",
      "Requirement already satisfied: typing-extensions>=4.8.0 in c:\\users\\devaraju_h\\anaconda3\\lib\\site-packages (from torch==2.4.1->torchvision) (4.9.0)\n",
      "Requirement already satisfied: sympy in c:\\users\\devaraju_h\\anaconda3\\lib\\site-packages (from torch==2.4.1->torchvision) (1.12)\n",
      "Requirement already satisfied: networkx in c:\\users\\devaraju_h\\anaconda3\\lib\\site-packages (from torch==2.4.1->torchvision) (3.1)\n",
      "Requirement already satisfied: jinja2 in c:\\users\\devaraju_h\\anaconda3\\lib\\site-packages (from torch==2.4.1->torchvision) (3.1.3)\n",
      "Requirement already satisfied: fsspec in c:\\users\\devaraju_h\\anaconda3\\lib\\site-packages (from torch==2.4.1->torchvision) (2023.10.0)\n",
      "Requirement already satisfied: MarkupSafe>=2.0 in c:\\users\\devaraju_h\\anaconda3\\lib\\site-packages (from jinja2->torch==2.4.1->torchvision) (2.1.3)\n",
      "Requirement already satisfied: mpmath>=0.19 in c:\\users\\devaraju_h\\anaconda3\\lib\\site-packages (from sympy->torch==2.4.1->torchvision) (1.3.0)\n",
      "Downloading torchvision-0.19.1-cp311-cp311-win_amd64.whl (1.3 MB)\n",
      "   ---------------------------------------- 0.0/1.3 MB ? eta -:--:--\n",
      "   ---------------------------------------- 0.0/1.3 MB ? eta -:--:--\n",
      "   ---------------------------------------- 0.0/1.3 MB ? eta -:--:--\n",
      "    --------------------------------------- 0.0/1.3 MB 217.9 kB/s eta 0:00:06\n",
      "    --------------------------------------- 0.0/1.3 MB 217.9 kB/s eta 0:00:06\n",
      "   -- ------------------------------------- 0.1/1.3 MB 383.3 kB/s eta 0:00:04\n",
      "   -- ------------------------------------- 0.1/1.3 MB 383.3 kB/s eta 0:00:04\n",
      "   --- ------------------------------------ 0.1/1.3 MB 364.4 kB/s eta 0:00:04\n",
      "   --- ------------------------------------ 0.1/1.3 MB 364.4 kB/s eta 0:00:04\n",
      "   ------- -------------------------------- 0.2/1.3 MB 602.4 kB/s eta 0:00:02\n",
      "   ------- -------------------------------- 0.2/1.3 MB 602.4 kB/s eta 0:00:02\n",
      "   ---------- ----------------------------- 0.3/1.3 MB 634.9 kB/s eta 0:00:02\n",
      "   ---------- ----------------------------- 0.3/1.3 MB 635.0 kB/s eta 0:00:02\n",
      "   ------------- -------------------------- 0.4/1.3 MB 724.0 kB/s eta 0:00:02\n",
      "   ------------- -------------------------- 0.5/1.3 MB 723.0 kB/s eta 0:00:02\n",
      "   ------------- -------------------------- 0.5/1.3 MB 723.0 kB/s eta 0:00:02\n",
      "   ----------------- ---------------------- 0.6/1.3 MB 801.1 kB/s eta 0:00:01\n",
      "   ----------------- ---------------------- 0.6/1.3 MB 801.1 kB/s eta 0:00:01\n",
      "   --------------------- ------------------ 0.7/1.3 MB 844.9 kB/s eta 0:00:01\n",
      "   --------------------- ------------------ 0.7/1.3 MB 844.9 kB/s eta 0:00:01\n",
      "   ------------------------- -------------- 0.8/1.3 MB 892.9 kB/s eta 0:00:01\n",
      "   ------------------------- -------------- 0.8/1.3 MB 892.9 kB/s eta 0:00:01\n",
      "   ----------------------------- ---------- 0.9/1.3 MB 917.2 kB/s eta 0:00:01\n",
      "   ----------------------------- ---------- 0.9/1.3 MB 917.2 kB/s eta 0:00:01\n",
      "   --------------------------------- ------ 1.1/1.3 MB 951.1 kB/s eta 0:00:01\n",
      "   --------------------------------- ------ 1.1/1.3 MB 951.1 kB/s eta 0:00:01\n",
      "   --------------------------------- ------ 1.1/1.3 MB 951.1 kB/s eta 0:00:01\n",
      "   ------------------------------------ --- 1.2/1.3 MB 966.0 kB/s eta 0:00:01\n",
      "   ------------------------------------ --- 1.2/1.3 MB 966.0 kB/s eta 0:00:01\n",
      "   ------------------------------------ --- 1.2/1.3 MB 966.0 kB/s eta 0:00:01\n",
      "   ------------------------------------ --- 1.2/1.3 MB 966.0 kB/s eta 0:00:01\n",
      "   ---------------------------------------  1.3/1.3 MB 892.9 kB/s eta 0:00:01\n",
      "   ---------------------------------------  1.3/1.3 MB 892.9 kB/s eta 0:00:01\n",
      "   ---------------------------------------- 1.3/1.3 MB 834.8 kB/s eta 0:00:00\n",
      "Downloading torchaudio-2.4.1-cp311-cp311-win_amd64.whl (2.4 MB)\n",
      "   ---------------------------------------- 0.0/2.4 MB ? eta -:--:--\n",
      "   - -------------------------------------- 0.1/2.4 MB 1.7 MB/s eta 0:00:02\n",
      "   --- ------------------------------------ 0.2/2.4 MB 2.1 MB/s eta 0:00:02\n",
      "   ----- ---------------------------------- 0.3/2.4 MB 2.4 MB/s eta 0:00:01\n",
      "   ------ --------------------------------- 0.4/2.4 MB 2.2 MB/s eta 0:00:01\n",
      "   -------- ------------------------------- 0.5/2.4 MB 2.2 MB/s eta 0:00:01\n",
      "   ---------- ----------------------------- 0.6/2.4 MB 2.3 MB/s eta 0:00:01\n",
      "   ----------- ---------------------------- 0.7/2.4 MB 2.2 MB/s eta 0:00:01\n",
      "   ------------- -------------------------- 0.8/2.4 MB 2.2 MB/s eta 0:00:01\n",
      "   --------------- ------------------------ 0.9/2.4 MB 2.3 MB/s eta 0:00:01\n",
      "   ---------------- ----------------------- 1.0/2.4 MB 2.2 MB/s eta 0:00:01\n",
      "   ------------------- -------------------- 1.2/2.4 MB 2.2 MB/s eta 0:00:01\n",
      "   --------------------- ------------------ 1.3/2.4 MB 2.3 MB/s eta 0:00:01\n",
      "   ---------------------- ----------------- 1.4/2.4 MB 2.3 MB/s eta 0:00:01\n",
      "   ------------------------ --------------- 1.5/2.4 MB 2.3 MB/s eta 0:00:01\n",
      "   -------------------------- ------------- 1.6/2.4 MB 2.3 MB/s eta 0:00:01\n",
      "   ---------------------------- ----------- 1.7/2.4 MB 2.3 MB/s eta 0:00:01\n",
      "   ------------------------------ --------- 1.8/2.4 MB 2.3 MB/s eta 0:00:01\n",
      "   -------------------------------- ------- 2.0/2.4 MB 2.3 MB/s eta 0:00:01\n",
      "   ---------------------------------- ----- 2.1/2.4 MB 2.3 MB/s eta 0:00:01\n",
      "   ------------------------------------ --- 2.2/2.4 MB 2.3 MB/s eta 0:00:01\n",
      "   -------------------------------------- - 2.3/2.4 MB 2.4 MB/s eta 0:00:01\n",
      "   ---------------------------------------  2.4/2.4 MB 2.4 MB/s eta 0:00:01\n",
      "   ---------------------------------------  2.4/2.4 MB 2.4 MB/s eta 0:00:01\n",
      "   ---------------------------------------  2.4/2.4 MB 2.4 MB/s eta 0:00:01\n",
      "   ---------------------------------------  2.4/2.4 MB 2.4 MB/s eta 0:00:01\n",
      "   ---------------------------------------  2.4/2.4 MB 2.4 MB/s eta 0:00:01\n",
      "   ---------------------------------------  2.4/2.4 MB 2.4 MB/s eta 0:00:01\n",
      "   ---------------------------------------  2.4/2.4 MB 2.4 MB/s eta 0:00:01\n",
      "   ---------------------------------------  2.4/2.4 MB 2.4 MB/s eta 0:00:01\n",
      "   ---------------------------------------  2.4/2.4 MB 2.4 MB/s eta 0:00:01\n",
      "   ---------------------------------------  2.4/2.4 MB 2.4 MB/s eta 0:00:01\n",
      "   ---------------------------------------  2.4/2.4 MB 2.4 MB/s eta 0:00:01\n",
      "   ---------------------------------------  2.4/2.4 MB 2.4 MB/s eta 0:00:01\n",
      "   ---------------------------------------- 2.4/2.4 MB 1.6 MB/s eta 0:00:00\n",
      "Building wheels for collected packages: pytorch\n",
      "  Building wheel for pytorch (setup.py): started\n",
      "  Building wheel for pytorch (setup.py): finished with status 'error'\n",
      "  Running setup.py clean for pytorch\n",
      "Failed to build pytorch\n"
     ]
    },
    {
     "name": "stderr",
     "output_type": "stream",
     "text": [
      "  error: subprocess-exited-with-error\n",
      "  \n",
      "  python setup.py bdist_wheel did not run successfully.\n",
      "  exit code: 1\n",
      "  \n",
      "  [6 lines of output]\n",
      "  Traceback (most recent call last):\n",
      "    File \"<string>\", line 2, in <module>\n",
      "    File \"<pip-setuptools-caller>\", line 34, in <module>\n",
      "    File \"C:\\Users\\Devaraju_H\\AppData\\Local\\Temp\\pip-install-pm0c20ak\\pytorch_187c8deed42f407fb4b1c1ea42e21e97\\setup.py\", line 15, in <module>\n",
      "      raise Exception(message)\n",
      "  Exception: You tried to install \"pytorch\". The package named for PyTorch is \"torch\"\n",
      "  [end of output]\n",
      "  \n",
      "  note: This error originates from a subprocess, and is likely not a problem with pip.\n",
      "  ERROR: Failed building wheel for pytorch\n",
      "ERROR: Could not build wheels for pytorch, which is required to install pyproject.toml-based projects\n"
     ]
    }
   ],
   "source": [
    "!pip install pytorch torchvision torchaudio \n"
   ]
  },
  {
   "cell_type": "code",
   "execution_count": 5,
   "id": "9ba15255-f698-45ed-a967-552ef7da8ca5",
   "metadata": {},
   "outputs": [
    {
     "name": "stdout",
     "output_type": "stream",
     "text": [
      "Requirement already satisfied: torch in c:\\users\\devaraju_h\\anaconda3\\lib\\site-packages (2.4.1+cu118)\n",
      "Requirement already satisfied: filelock in c:\\users\\devaraju_h\\anaconda3\\lib\\site-packages (from torch) (3.13.1)\n",
      "Requirement already satisfied: typing-extensions>=4.8.0 in c:\\users\\devaraju_h\\anaconda3\\lib\\site-packages (from torch) (4.9.0)\n",
      "Requirement already satisfied: sympy in c:\\users\\devaraju_h\\anaconda3\\lib\\site-packages (from torch) (1.12)\n",
      "Requirement already satisfied: networkx in c:\\users\\devaraju_h\\anaconda3\\lib\\site-packages (from torch) (3.1)\n",
      "Requirement already satisfied: jinja2 in c:\\users\\devaraju_h\\anaconda3\\lib\\site-packages (from torch) (3.1.3)\n",
      "Requirement already satisfied: fsspec in c:\\users\\devaraju_h\\anaconda3\\lib\\site-packages (from torch) (2023.10.0)\n",
      "Requirement already satisfied: MarkupSafe>=2.0 in c:\\users\\devaraju_h\\anaconda3\\lib\\site-packages (from jinja2->torch) (2.1.3)\n",
      "Requirement already satisfied: mpmath>=0.19 in c:\\users\\devaraju_h\\anaconda3\\lib\\site-packages (from sympy->torch) (1.3.0)\n"
     ]
    }
   ],
   "source": [
    "!pip install torch\n"
   ]
  },
  {
   "cell_type": "code",
   "execution_count": 6,
   "id": "261ec7d9-035d-4c1f-ab2d-1316fdc30e35",
   "metadata": {},
   "outputs": [
    {
     "name": "stdout",
     "output_type": "stream",
     "text": [
      "Files removed: 639Note: you may need to restart the kernel to use updated packages.\n",
      "\n"
     ]
    }
   ],
   "source": [
    "pip cache purge\n"
   ]
  },
  {
   "cell_type": "code",
   "execution_count": 8,
   "id": "7da29443-6b45-45ee-83b4-caefdd3e3a49",
   "metadata": {},
   "outputs": [
    {
     "name": "stdout",
     "output_type": "stream",
     "text": [
      "Requirement already satisfied: torch in c:\\users\\devaraju_h\\anaconda3\\lib\\site-packages (2.4.1+cu118)\n",
      "Collecting torchvision\n",
      "  Downloading torchvision-0.19.1-cp311-cp311-win_amd64.whl.metadata (6.1 kB)\n",
      "Collecting torchaudio\n",
      "  Downloading torchaudio-2.4.1-cp311-cp311-win_amd64.whl.metadata (6.5 kB)\n",
      "Requirement already satisfied: filelock in c:\\users\\devaraju_h\\anaconda3\\lib\\site-packages (from torch) (3.13.1)\n",
      "Requirement already satisfied: typing-extensions>=4.8.0 in c:\\users\\devaraju_h\\anaconda3\\lib\\site-packages (from torch) (4.9.0)\n",
      "Requirement already satisfied: sympy in c:\\users\\devaraju_h\\anaconda3\\lib\\site-packages (from torch) (1.12)\n",
      "Requirement already satisfied: networkx in c:\\users\\devaraju_h\\anaconda3\\lib\\site-packages (from torch) (3.1)\n",
      "Requirement already satisfied: jinja2 in c:\\users\\devaraju_h\\anaconda3\\lib\\site-packages (from torch) (3.1.3)\n",
      "Requirement already satisfied: fsspec in c:\\users\\devaraju_h\\anaconda3\\lib\\site-packages (from torch) (2023.10.0)\n",
      "Requirement already satisfied: numpy in c:\\users\\devaraju_h\\anaconda3\\lib\\site-packages (from torchvision) (1.26.4)\n",
      "Requirement already satisfied: pillow!=8.3.*,>=5.3.0 in c:\\users\\devaraju_h\\anaconda3\\lib\\site-packages (from torchvision) (10.2.0)\n",
      "Requirement already satisfied: MarkupSafe>=2.0 in c:\\users\\devaraju_h\\anaconda3\\lib\\site-packages (from jinja2->torch) (2.1.3)\n",
      "Requirement already satisfied: mpmath>=0.19 in c:\\users\\devaraju_h\\anaconda3\\lib\\site-packages (from sympy->torch) (1.3.0)\n",
      "Downloading torchvision-0.19.1-cp311-cp311-win_amd64.whl (1.3 MB)\n",
      "   ---------------------------------------- 0.0/1.3 MB ? eta -:--:--\n",
      "   ---------------------------------------- 0.0/1.3 MB ? eta -:--:--\n",
      "   ---------------- ----------------------- 0.5/1.3 MB 3.4 MB/s eta 0:00:01\n",
      "   -------------------------------- ------- 1.0/1.3 MB 3.4 MB/s eta 0:00:01\n",
      "   -------------------------------- ------- 1.0/1.3 MB 3.4 MB/s eta 0:00:01\n",
      "   -------------------------------- ------- 1.0/1.3 MB 3.4 MB/s eta 0:00:01\n",
      "   -------------------------------- ------- 1.0/1.3 MB 3.4 MB/s eta 0:00:01\n",
      "   ---------------------------------------- 1.3/1.3 MB 938.0 kB/s eta 0:00:00\n",
      "Downloading torchaudio-2.4.1-cp311-cp311-win_amd64.whl (2.4 MB)\n",
      "   ---------------------------------------- 0.0/2.4 MB ? eta -:--:--\n",
      "   --------------------- ------------------ 1.3/2.4 MB 13.4 MB/s eta 0:00:01\n",
      "   ---------------------------------------  2.4/2.4 MB 10.3 MB/s eta 0:00:01\n",
      "   ---------------------------------------  2.4/2.4 MB 10.3 MB/s eta 0:00:01\n",
      "   ---------------------------------------  2.4/2.4 MB 10.3 MB/s eta 0:00:01\n",
      "   ---------------------------------------- 2.4/2.4 MB 2.5 MB/s eta 0:00:00\n",
      "Installing collected packages: torchvision, torchaudio\n",
      "Successfully installed torchaudio-2.4.1 torchvision-0.19.1\n"
     ]
    }
   ],
   "source": [
    "!pip install torch torchvision torchaudio\n"
   ]
  },
  {
   "cell_type": "code",
   "execution_count": 9,
   "id": "34117968-98ed-4e2b-bd7b-3d54b9ec08ce",
   "metadata": {},
   "outputs": [],
   "source": [
    "import torch\n",
    "import torch.nn as nn\n",
    "import torch.optim as optim\n",
    "import pandas as pd\n",
    "import numpy as np"
   ]
  },
  {
   "cell_type": "code",
   "execution_count": 11,
   "id": "8050ba1c-6239-41ce-a8a6-9d929cfbcae6",
   "metadata": {},
   "outputs": [],
   "source": [
    "data=pd.read_csv(\"Salary_Data.csv\")"
   ]
  },
  {
   "cell_type": "code",
   "execution_count": 12,
   "id": "d6250498-2d26-4dd6-8355-9b2853b7b02e",
   "metadata": {},
   "outputs": [
    {
     "data": {
      "text/html": [
       "<div>\n",
       "<style scoped>\n",
       "    .dataframe tbody tr th:only-of-type {\n",
       "        vertical-align: middle;\n",
       "    }\n",
       "\n",
       "    .dataframe tbody tr th {\n",
       "        vertical-align: top;\n",
       "    }\n",
       "\n",
       "    .dataframe thead th {\n",
       "        text-align: right;\n",
       "    }\n",
       "</style>\n",
       "<table border=\"1\" class=\"dataframe\">\n",
       "  <thead>\n",
       "    <tr style=\"text-align: right;\">\n",
       "      <th></th>\n",
       "      <th>YearsExperience</th>\n",
       "      <th>Salary</th>\n",
       "    </tr>\n",
       "  </thead>\n",
       "  <tbody>\n",
       "    <tr>\n",
       "      <th>0</th>\n",
       "      <td>1.1</td>\n",
       "      <td>39343.0</td>\n",
       "    </tr>\n",
       "    <tr>\n",
       "      <th>1</th>\n",
       "      <td>1.3</td>\n",
       "      <td>46205.0</td>\n",
       "    </tr>\n",
       "    <tr>\n",
       "      <th>2</th>\n",
       "      <td>1.5</td>\n",
       "      <td>37731.0</td>\n",
       "    </tr>\n",
       "    <tr>\n",
       "      <th>3</th>\n",
       "      <td>2.0</td>\n",
       "      <td>43525.0</td>\n",
       "    </tr>\n",
       "    <tr>\n",
       "      <th>4</th>\n",
       "      <td>2.2</td>\n",
       "      <td>39891.0</td>\n",
       "    </tr>\n",
       "  </tbody>\n",
       "</table>\n",
       "</div>"
      ],
      "text/plain": [
       "   YearsExperience   Salary\n",
       "0              1.1  39343.0\n",
       "1              1.3  46205.0\n",
       "2              1.5  37731.0\n",
       "3              2.0  43525.0\n",
       "4              2.2  39891.0"
      ]
     },
     "execution_count": 12,
     "metadata": {},
     "output_type": "execute_result"
    }
   ],
   "source": [
    "data.head(5)"
   ]
  },
  {
   "cell_type": "code",
   "execution_count": 13,
   "id": "e304d66f-f1fd-4ae6-a6d2-f6af95fdb973",
   "metadata": {},
   "outputs": [
    {
     "data": {
      "text/html": [
       "<div>\n",
       "<style scoped>\n",
       "    .dataframe tbody tr th:only-of-type {\n",
       "        vertical-align: middle;\n",
       "    }\n",
       "\n",
       "    .dataframe tbody tr th {\n",
       "        vertical-align: top;\n",
       "    }\n",
       "\n",
       "    .dataframe thead th {\n",
       "        text-align: right;\n",
       "    }\n",
       "</style>\n",
       "<table border=\"1\" class=\"dataframe\">\n",
       "  <thead>\n",
       "    <tr style=\"text-align: right;\">\n",
       "      <th></th>\n",
       "      <th>YearsExperience</th>\n",
       "      <th>Salary</th>\n",
       "    </tr>\n",
       "  </thead>\n",
       "  <tbody>\n",
       "    <tr>\n",
       "      <th>0</th>\n",
       "      <td>False</td>\n",
       "      <td>False</td>\n",
       "    </tr>\n",
       "    <tr>\n",
       "      <th>1</th>\n",
       "      <td>False</td>\n",
       "      <td>False</td>\n",
       "    </tr>\n",
       "    <tr>\n",
       "      <th>2</th>\n",
       "      <td>False</td>\n",
       "      <td>False</td>\n",
       "    </tr>\n",
       "    <tr>\n",
       "      <th>3</th>\n",
       "      <td>False</td>\n",
       "      <td>False</td>\n",
       "    </tr>\n",
       "    <tr>\n",
       "      <th>4</th>\n",
       "      <td>False</td>\n",
       "      <td>False</td>\n",
       "    </tr>\n",
       "    <tr>\n",
       "      <th>5</th>\n",
       "      <td>False</td>\n",
       "      <td>False</td>\n",
       "    </tr>\n",
       "    <tr>\n",
       "      <th>6</th>\n",
       "      <td>False</td>\n",
       "      <td>False</td>\n",
       "    </tr>\n",
       "    <tr>\n",
       "      <th>7</th>\n",
       "      <td>False</td>\n",
       "      <td>False</td>\n",
       "    </tr>\n",
       "    <tr>\n",
       "      <th>8</th>\n",
       "      <td>False</td>\n",
       "      <td>False</td>\n",
       "    </tr>\n",
       "    <tr>\n",
       "      <th>9</th>\n",
       "      <td>False</td>\n",
       "      <td>False</td>\n",
       "    </tr>\n",
       "    <tr>\n",
       "      <th>10</th>\n",
       "      <td>False</td>\n",
       "      <td>False</td>\n",
       "    </tr>\n",
       "    <tr>\n",
       "      <th>11</th>\n",
       "      <td>False</td>\n",
       "      <td>False</td>\n",
       "    </tr>\n",
       "    <tr>\n",
       "      <th>12</th>\n",
       "      <td>False</td>\n",
       "      <td>False</td>\n",
       "    </tr>\n",
       "    <tr>\n",
       "      <th>13</th>\n",
       "      <td>False</td>\n",
       "      <td>False</td>\n",
       "    </tr>\n",
       "    <tr>\n",
       "      <th>14</th>\n",
       "      <td>False</td>\n",
       "      <td>False</td>\n",
       "    </tr>\n",
       "    <tr>\n",
       "      <th>15</th>\n",
       "      <td>False</td>\n",
       "      <td>False</td>\n",
       "    </tr>\n",
       "    <tr>\n",
       "      <th>16</th>\n",
       "      <td>False</td>\n",
       "      <td>False</td>\n",
       "    </tr>\n",
       "    <tr>\n",
       "      <th>17</th>\n",
       "      <td>False</td>\n",
       "      <td>False</td>\n",
       "    </tr>\n",
       "    <tr>\n",
       "      <th>18</th>\n",
       "      <td>False</td>\n",
       "      <td>False</td>\n",
       "    </tr>\n",
       "    <tr>\n",
       "      <th>19</th>\n",
       "      <td>False</td>\n",
       "      <td>False</td>\n",
       "    </tr>\n",
       "    <tr>\n",
       "      <th>20</th>\n",
       "      <td>False</td>\n",
       "      <td>False</td>\n",
       "    </tr>\n",
       "    <tr>\n",
       "      <th>21</th>\n",
       "      <td>False</td>\n",
       "      <td>False</td>\n",
       "    </tr>\n",
       "    <tr>\n",
       "      <th>22</th>\n",
       "      <td>False</td>\n",
       "      <td>False</td>\n",
       "    </tr>\n",
       "    <tr>\n",
       "      <th>23</th>\n",
       "      <td>False</td>\n",
       "      <td>False</td>\n",
       "    </tr>\n",
       "    <tr>\n",
       "      <th>24</th>\n",
       "      <td>False</td>\n",
       "      <td>False</td>\n",
       "    </tr>\n",
       "    <tr>\n",
       "      <th>25</th>\n",
       "      <td>False</td>\n",
       "      <td>False</td>\n",
       "    </tr>\n",
       "    <tr>\n",
       "      <th>26</th>\n",
       "      <td>False</td>\n",
       "      <td>False</td>\n",
       "    </tr>\n",
       "    <tr>\n",
       "      <th>27</th>\n",
       "      <td>False</td>\n",
       "      <td>False</td>\n",
       "    </tr>\n",
       "    <tr>\n",
       "      <th>28</th>\n",
       "      <td>False</td>\n",
       "      <td>False</td>\n",
       "    </tr>\n",
       "    <tr>\n",
       "      <th>29</th>\n",
       "      <td>False</td>\n",
       "      <td>False</td>\n",
       "    </tr>\n",
       "  </tbody>\n",
       "</table>\n",
       "</div>"
      ],
      "text/plain": [
       "    YearsExperience  Salary\n",
       "0             False   False\n",
       "1             False   False\n",
       "2             False   False\n",
       "3             False   False\n",
       "4             False   False\n",
       "5             False   False\n",
       "6             False   False\n",
       "7             False   False\n",
       "8             False   False\n",
       "9             False   False\n",
       "10            False   False\n",
       "11            False   False\n",
       "12            False   False\n",
       "13            False   False\n",
       "14            False   False\n",
       "15            False   False\n",
       "16            False   False\n",
       "17            False   False\n",
       "18            False   False\n",
       "19            False   False\n",
       "20            False   False\n",
       "21            False   False\n",
       "22            False   False\n",
       "23            False   False\n",
       "24            False   False\n",
       "25            False   False\n",
       "26            False   False\n",
       "27            False   False\n",
       "28            False   False\n",
       "29            False   False"
      ]
     },
     "execution_count": 13,
     "metadata": {},
     "output_type": "execute_result"
    }
   ],
   "source": [
    "data.isnull()"
   ]
  },
  {
   "cell_type": "code",
   "execution_count": 15,
   "id": "2e0ec080-676e-4361-9266-c0658fa11858",
   "metadata": {},
   "outputs": [
    {
     "data": {
      "text/plain": [
       "YearsExperience    30\n",
       "Salary             30\n",
       "dtype: int64"
      ]
     },
     "execution_count": 15,
     "metadata": {},
     "output_type": "execute_result"
    }
   ],
   "source": [
    "data.isnull().count()"
   ]
  },
  {
   "cell_type": "code",
   "execution_count": 17,
   "id": "b1c0f19e-403b-4bb6-8280-327c58dafb48",
   "metadata": {},
   "outputs": [
    {
     "name": "stdout",
     "output_type": "stream",
     "text": [
      "<class 'pandas.core.frame.DataFrame'>\n",
      "RangeIndex: 30 entries, 0 to 29\n",
      "Data columns (total 2 columns):\n",
      " #   Column           Non-Null Count  Dtype  \n",
      "---  ------           --------------  -----  \n",
      " 0   YearsExperience  30 non-null     float64\n",
      " 1   Salary           30 non-null     float64\n",
      "dtypes: float64(2)\n",
      "memory usage: 612.0 bytes\n"
     ]
    }
   ],
   "source": [
    "data.info()"
   ]
  },
  {
   "cell_type": "code",
   "execution_count": 18,
   "id": "e9844b4d-7a68-44cb-ac4c-0ca095713084",
   "metadata": {},
   "outputs": [
    {
     "data": {
      "text/html": [
       "<div>\n",
       "<style scoped>\n",
       "    .dataframe tbody tr th:only-of-type {\n",
       "        vertical-align: middle;\n",
       "    }\n",
       "\n",
       "    .dataframe tbody tr th {\n",
       "        vertical-align: top;\n",
       "    }\n",
       "\n",
       "    .dataframe thead th {\n",
       "        text-align: right;\n",
       "    }\n",
       "</style>\n",
       "<table border=\"1\" class=\"dataframe\">\n",
       "  <thead>\n",
       "    <tr style=\"text-align: right;\">\n",
       "      <th></th>\n",
       "      <th>YearsExperience</th>\n",
       "      <th>Salary</th>\n",
       "    </tr>\n",
       "  </thead>\n",
       "  <tbody>\n",
       "    <tr>\n",
       "      <th>count</th>\n",
       "      <td>30.000000</td>\n",
       "      <td>30.000000</td>\n",
       "    </tr>\n",
       "    <tr>\n",
       "      <th>mean</th>\n",
       "      <td>5.313333</td>\n",
       "      <td>76003.000000</td>\n",
       "    </tr>\n",
       "    <tr>\n",
       "      <th>std</th>\n",
       "      <td>2.837888</td>\n",
       "      <td>27414.429785</td>\n",
       "    </tr>\n",
       "    <tr>\n",
       "      <th>min</th>\n",
       "      <td>1.100000</td>\n",
       "      <td>37731.000000</td>\n",
       "    </tr>\n",
       "    <tr>\n",
       "      <th>25%</th>\n",
       "      <td>3.200000</td>\n",
       "      <td>56720.750000</td>\n",
       "    </tr>\n",
       "    <tr>\n",
       "      <th>50%</th>\n",
       "      <td>4.700000</td>\n",
       "      <td>65237.000000</td>\n",
       "    </tr>\n",
       "    <tr>\n",
       "      <th>75%</th>\n",
       "      <td>7.700000</td>\n",
       "      <td>100544.750000</td>\n",
       "    </tr>\n",
       "    <tr>\n",
       "      <th>max</th>\n",
       "      <td>10.500000</td>\n",
       "      <td>122391.000000</td>\n",
       "    </tr>\n",
       "  </tbody>\n",
       "</table>\n",
       "</div>"
      ],
      "text/plain": [
       "       YearsExperience         Salary\n",
       "count        30.000000      30.000000\n",
       "mean          5.313333   76003.000000\n",
       "std           2.837888   27414.429785\n",
       "min           1.100000   37731.000000\n",
       "25%           3.200000   56720.750000\n",
       "50%           4.700000   65237.000000\n",
       "75%           7.700000  100544.750000\n",
       "max          10.500000  122391.000000"
      ]
     },
     "execution_count": 18,
     "metadata": {},
     "output_type": "execute_result"
    }
   ],
   "source": [
    "data.describe()"
   ]
  },
  {
   "cell_type": "code",
   "execution_count": 20,
   "id": "17d332fe-4805-4a87-846c-31279e8dea57",
   "metadata": {},
   "outputs": [],
   "source": [
    "import matplotlib.pyplot as plt"
   ]
  },
  {
   "cell_type": "code",
   "execution_count": 21,
   "id": "77dbaf09-0f20-41ae-b7e0-c96737574f5a",
   "metadata": {},
   "outputs": [
    {
     "data": {
      "image/png": "[encoded data removed]",
      "text/plain": [
       "<Figure size 640x480 with 1 Axes>"
      ]
     },
     "metadata": {},
     "output_type": "display_data"
    }
   ],
   "source": [
    "plt.figure()\n",
    "plt.scatter(data['YearsExperience'],data['Salary'])\n",
    "plt.show()"
   ]
  },
  {
   "cell_type": "code",
   "execution_count": 34,
   "id": "a79253a5-e3aa-4c31-b8b3-df72b433ed13",
   "metadata": {},
   "outputs": [
    {
     "data": {
      "image/png": "[encoded data removed]",
      "text/plain": [
       "<Figure size 640x480 with 1 Axes>"
      ]
     },
     "metadata": {},
     "output_type": "display_data"
    }
   ],
   "source": [
    "plt.figure()\n",
    "plt.scatter(data['YearsExperience'],data['Salary'])\n",
    "plt.plot(data['YearsExperience'],data['Salary'])\n",
    "plt.show()"
   ]
  },
  {
   "cell_type": "code",
   "execution_count": 23,
   "id": "4b5c4dbe-b757-496d-a00e-1d623032e551",
   "metadata": {},
   "outputs": [],
   "source": [
    "x=data['YearsExperience'].values.astype(np.float32)\n",
    "y=data['Salary'].values.astype(np.float32)"
   ]
  },
  {
   "cell_type": "code",
   "execution_count": 25,
   "id": "fcd88892-e196-4c95-a984-f0c5ae276f6d",
   "metadata": {},
   "outputs": [],
   "source": [
    "#converting to pytorch tensors\n",
    "\n",
    "x_train=torch.tensor(x).unsqueeze(1)\n",
    "y_train=torch.tensor(y).unsqueeze(1)"
   ]
  },
  {
   "cell_type": "code",
   "execution_count": 31,
   "id": "f4b02339-5ab3-41bf-b0e6-42bc6203b8e5",
   "metadata": {},
   "outputs": [],
   "source": [
    "#creating a basic neural network\n",
    "\n",
    "class BNN(nn.Module):\n",
    "    def __init__(self):\n",
    "        super(BNN,self).__init__()\n",
    "        self.fc1=nn.Linear(1,10)\n",
    "        self.fc2=nn.Linear(10,1)\n",
    "\n",
    "\n",
    "    def forward(self,x):\n",
    "        x=torch.relu(self,fc1(x))\n",
    "        x=self.fc2(x)\n",
    "        return x"
   ]
  },
  {
   "cell_type": "code",
   "execution_count": 52,
   "id": "ec481abb-f2f1-44e5-a293-96ca96be71b2",
   "metadata": {},
   "outputs": [],
   "source": [
    "model=BNN()\n",
    "criteria=nn.MSELoss()\n",
    "optimizer=optim.Adam(model.parameters(),lr=0.01)#learning rate=0.01;\n"
   ]
  },
  {
   "cell_type": "code",
   "execution_count": 53,
   "id": "9d4b36fb-2fee-45d5-b33e-957d69892d4f",
   "metadata": {},
   "outputs": [
    {
     "name": "stdout",
     "output_type": "stream",
     "text": [
      "predicted salaries: [[ 5.958639 ]\n",
      " [ 6.396714 ]\n",
      " [ 6.8347898]\n",
      " [ 7.9299774]\n",
      " [ 8.368054 ]\n",
      " [ 9.901317 ]\n",
      " [10.120354 ]\n",
      " [10.55843  ]\n",
      " [10.55843  ]\n",
      " [11.653617 ]\n",
      " [12.091692 ]\n",
      " [12.310731 ]\n",
      " [12.310731 ]\n",
      " [12.529768 ]\n",
      " [13.405918 ]\n",
      " [14.282069 ]\n",
      " [14.720144 ]\n",
      " [15.15822  ]\n",
      " [16.472446 ]\n",
      " [16.691483 ]\n",
      " [18.443785 ]\n",
      " [19.100899 ]\n",
      " [20.853199 ]\n",
      " [21.51031  ]\n",
      " [22.605501 ]\n",
      " [23.262613 ]\n",
      " [24.3578   ]\n",
      " [24.57684  ]\n",
      " [26.110102 ]\n",
      " [26.548176 ]]\n"
     ]
    }
   ],
   "source": [
    "num_epochs=64\n",
    "for epoch in range(num_epochs):\n",
    "    model.train()\n",
    "\n",
    "\n",
    "    outputs=model(x_train)\n",
    "    loss=criteria(outputs,y_train)\n",
    "\n",
    "\n",
    "    optimizer.zero_grad()\n",
    "    loss.backward()\n",
    "    optimizer.step()\n",
    "\n",
    "\n",
    "    if(epoch+1)%100==0:\n",
    "        print(f'Epoch [{epoch+1}/{num_epochs}],Loss:{loss.item():.4f}')\n",
    "\n",
    "\n",
    "model.eval()\n",
    "with torch.no_grad():\n",
    "    pred_sal=model(x_train).numpy()\n",
    "\n",
    "\n",
    "print(\"predicted salaries:\",pred_sal)"
   ]
  },
  {
   "cell_type": "code",
   "execution_count": 51,
   "id": "4e7d6147-f5d0-446a-9cf7-000e5d3946be",
   "metadata": {},
   "outputs": [],
   "source": [
    "import torch\n",
    "import torch.nn as nn\n",
    "\n",
    "class BNN(nn.Module):\n",
    "    def __init__(self):\n",
    "        super(BNN, self).__init__()\n",
    "        self.fc1 = nn.Linear(in_features=1, out_features=10)  # Adjust input size to 30\n",
    "        self.fc2 = nn.Linear(in_features=10, out_features=1)\n",
    "\n",
    "    def forward(self, x):\n",
    "        x = torch.relu(self.fc1(x))\n",
    "        x = self.fc2(x)\n",
    "        return x"
   ]
  },
  {
   "cell_type": "code",
   "execution_count": 35,
   "id": "00666f3c-7bd5-43ac-907f-ed625d1ef1ab",
   "metadata": {},
   "outputs": [
    {
     "data": {
      "image/png": "[encoded data removed]",
      "text/plain": [
       "<Figure size 640x480 with 1 Axes>"
      ]
     },
     "metadata": {},
     "output_type": "display_data"
    }
   ],
   "source": [
    "plt.figure()\n",
    "#plt.scatter(data['YearsExperience'],data['Salary'])\n",
    "plt.plot(x_train,y_train)\n",
    "plt.show()"
   ]
  },
  {
   "cell_type": "code",
   "execution_count": 59,
   "id": "c80e955d-0e97-42a7-bbdb-69091270636f",
   "metadata": {},
   "outputs": [
    {
     "data": {
      "image/png": "[encoded data removed]",
      "text/plain": [
       "<Figure size 640x480 with 1 Axes>"
      ]
     },
     "metadata": {},
     "output_type": "display_data"
    }
   ],
   "source": [
    "import matplotlib.pyplot as plt\n",
    "\n",
    "# List to store loss values over epochs\n",
    "epoch_losses = []\n",
    "\n",
    "for epoch in range(num_epochs):\n",
    "    model.train()\n",
    "    outputs = model(x_train)\n",
    "    loss = criteria(outputs, y_train)\n",
    "\n",
    "    optimizer.zero_grad()\n",
    "    loss.backward()\n",
    "    optimizer.step()\n",
    "\n",
    "    epoch_losses.append(loss.item())  # Store loss value for this epoch\n",
    "\n",
    "# Plotting loss over epochs\n",
    "plt.figure()\n",
    "plt.plot(range(num_epochs), epoch_losses)\n",
    "plt.ylabel('Epoch')\n",
    "plt.xlabel('Loss')\n",
    "plt.title('Loss over Epochs')\n",
    "plt.show()\n"
   ]
  },
  {
   "cell_type": "code",
   "execution_count": 57,
   "id": "d01bca89-a1b1-4a3b-9ac6-c0983e2e8f45",
   "metadata": {},
   "outputs": [
    {
     "data": {
      "image/png": "[encoded data removed]",
      "text/plain": [
       "<Figure size 640x480 with 1 Axes>"
      ]
     },
     "metadata": {},
     "output_type": "display_data"
    }
   ],
   "source": [
    "# Example: Assuming you want to compare predictions to true values\n",
    "# Collect predictions and true values\n",
    "predictions = model(x_train)\n",
    "true_values = y_train  # or use actual targets\n",
    "\n",
    "# Convert tensors to numpy arrays\n",
    "predictions_np = predictions.detach().numpy().flatten()  # Flatten if needed\n",
    "true_values_np = true_values.detach().numpy().flatten()  # Flatten if needed\n",
    "\n",
    "# Plot predictions vs. true values\n",
    "plt.figure()\n",
    "plt.scatter(true_values_np, predictions_np, alpha=0.5)\n",
    "plt.xlabel('True Values')\n",
    "plt.ylabel('Predictions')\n",
    "plt.title('Predictions vs True Values')\n",
    "plt.show()\n"
   ]
  },
  {
   "cell_type": "code",
   "execution_count": 71,
   "id": "5fe904cf-c4a0-41ab-bbd5-d27f4306564b",
   "metadata": {},
   "outputs": [
    {
     "data": {
      "image/png": "[encoded data removed]",
      "text/plain": [
       "<Figure size 640x480 with 1 Axes>"
      ]
     },
     "metadata": {},
     "output_type": "display_data"
    }
   ],
   "source": [
    "plt.figure()\n",
    "plt.plot(predictions_np.flatten(), alpha=0.8)\n",
    "plt.xlabel('True Values')\n",
    "plt.ylabel('Predictions')\n",
    "plt.title('Predictions vs True Values')\n",
    "plt.show()"
   ]
  },
  {
   "cell_type": "code",
   "execution_count": 72,
   "id": "c29dff8b-6ebc-4295-8e3e-170f0695bd7b",
   "metadata": {},
   "outputs": [
    {
     "name": "stdout",
     "output_type": "stream",
     "text": [
      "predicted salaries: [[ 5.958639 ]\n",
      " [ 6.396714 ]\n",
      " [ 6.8347898]\n",
      " [ 7.9299774]\n",
      " [ 8.368054 ]\n",
      " [ 9.901317 ]\n",
      " [10.120354 ]\n",
      " [10.55843  ]\n",
      " [10.55843  ]\n",
      " [11.653617 ]\n",
      " [12.091692 ]\n",
      " [12.310731 ]\n",
      " [12.310731 ]\n",
      " [12.529768 ]\n",
      " [13.405918 ]\n",
      " [14.282069 ]\n",
      " [14.720144 ]\n",
      " [15.15822  ]\n",
      " [16.472446 ]\n",
      " [16.691483 ]\n",
      " [18.443785 ]\n",
      " [19.100899 ]\n",
      " [20.853199 ]\n",
      " [21.51031  ]\n",
      " [22.605501 ]\n",
      " [23.262613 ]\n",
      " [24.3578   ]\n",
      " [24.57684  ]\n",
      " [26.110102 ]\n",
      " [26.548176 ]]\n"
     ]
    }
   ],
   "source": [
    "print(\"predicted salaries:\",pred_sal)"
   ]
  },
  {
   "cell_type": "code",
   "execution_count": null,
   "id": "3fdcbbe8-936d-483b-9d23-034e950ecc47",
   "metadata": {},
   "outputs": [],
   "source": []
  }
 ],
 "metadata": {
  "kernelspec": {
   "display_name": "Python 3 (ipykernel)",
   "language": "python",
   "name": "python3"
  },
  "language_info": {
   "codemirror_mode": {
    "name": "ipython",
    "version": 3
   },
   "file_extension": ".py",
   "mimetype": "text/x-python",
   "name": "python",
   "nbconvert_exporter": "python",
   "pygments_lexer": "ipython3",
   "version": "3.11.7"
  }
 },
 "nbformat": 4,
 "nbformat_minor": 5
}
